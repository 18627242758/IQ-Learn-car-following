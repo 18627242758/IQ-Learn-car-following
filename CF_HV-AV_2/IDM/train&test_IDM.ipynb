{
 "cells": [
  {
   "cell_type": "code",
   "execution_count": null,
   "metadata": {
    "id": "01Xc9EqCcmiS",
    "scrolled": false,
    "pycharm": {
     "name": "#%%\n"
    }
   },
   "outputs": [],
   "source": [
    "from IPython.core.display import display, HTML\n",
    "display(HTML(\"<style>.container { width:100% !important; }</style>\"))"
   ]
  },
  {
   "cell_type": "code",
   "execution_count": null,
   "metadata": {
    "id": "4xvlvx1VcmiW",
    "pycharm": {
     "name": "#%%\n"
    }
   },
   "outputs": [],
   "source": [
    "from pathlib import Path\n",
    "import os\n",
    "import sys\n",
    "import numpy as np\n",
    "from geneticalgorithm import geneticalgorithm as ga\n",
    "import matplotlib.pyplot as plt\n",
    "%matplotlib inline\n",
    "sys.path.append(str(Path(os.getcwd()).parent.parent.absolute()))\n",
    "from CF_Env import CF_Env\n",
    "env = CF_Env()"
   ]
  },
  {
   "cell_type": "markdown",
   "metadata": {
    "id": "AVSW6oQwcmiX",
    "pycharm": {
     "name": "#%% md\n"
    }
   },
   "source": [
    "# Load data"
   ]
  },
  {
   "cell_type": "markdown",
   "metadata": {
    "id": "z4U3CPgycmiZ",
    "pycharm": {
     "name": "#%% md\n"
    }
   },
   "source": [
    "# Extract states"
   ]
  },
  {
   "cell_type": "code",
   "execution_count": null,
   "metadata": {
    "id": "P9pjWJbscmiZ",
    "scrolled": true,
    "pycharm": {
     "name": "#%%\n"
    }
   },
   "outputs": [],
   "source": [
    "training = np.load(str(Path(os.getcwd()).parent.absolute()) + \"/train_cf_2.npy\", allow_pickle=True)\n",
    "training = training.item()['states']\n",
    "training = np.array([np.array(x) for x in training])\n",
    "print('Number of training samples:', len(training))"
   ]
  },
  {
   "cell_type": "code",
   "execution_count": null,
   "metadata": {
    "id": "IgnwS7mYcmia",
    "scrolled": true,
    "pycharm": {
     "name": "#%%\n"
    }
   },
   "outputs": [],
   "source": [
    "testing = np.load(str(Path(os.getcwd()).parent.absolute()) + '/test_cf_2.npy', allow_pickle=True)\n",
    "testing = testing.item()['states']\n",
    "testing = np.array([np.array(x) for x in testing])\n",
    "print('Number of testing samples:', len(testing))"
   ]
  },
  {
   "cell_type": "markdown",
   "metadata": {
    "id": "uWEfkJv-Nt9w",
    "pycharm": {
     "name": "#%% md\n"
    }
   },
   "source": [
    "# IDM Hyper-paramters include\n",
    "# aMax: maximum acceleration/deceleration of the following vehicle\n",
    "# aCom: comfortable deceleration\n",
    "# V0: the desired speed\n",
    "# S0: minimum spacing at standstill\n",
    "# T0: desired time headway"
   ]
  },
  {
   "cell_type": "markdown",
   "metadata": {
    "id": "Arpf54pbNt9x",
    "pycharm": {
     "name": "#%% md\n"
    }
   },
   "source": [
    "# Define the objective function"
   ]
  },
  {
   "cell_type": "code",
   "execution_count": null,
   "metadata": {
    "id": "ef-N8NyeNt9x",
    "pycharm": {
     "name": "#%%\n"
    }
   },
   "outputs": [],
   "source": [
    "def cal_rmspe(y_true, y_pred):\n",
    "    # Compute Root Mean Square Percentage Error between two arrays\n",
    "    loss = np.sqrt(np.sum(np.square(y_true - y_pred))/np.sum(np.square(y_true)))\n",
    "    return loss"
   ]
  },
  {
   "cell_type": "code",
   "execution_count": null,
   "metadata": {
    "id": "kup1c-aYNt9y",
    "pycharm": {
     "name": "#%%\n"
    }
   },
   "outputs": [],
   "source": [
    "def fitness_func(solution): # solution is 6D vector: [aMax, aCom, V0, S0, T0]\n",
    "    # store simulated and real data\n",
    "    # spacing\n",
    "    SimSpaceData = []\n",
    "    RealSpaceData = []\n",
    "    # following speed\n",
    "    SimSpeedData = []\n",
    "    RealSpeedData = []\n",
    "\n",
    "    \n",
    "    for i in range(len(training)):\n",
    "        # Initialize the environment.\n",
    "        init_data = training[i]\n",
    "        state = env.reset(init_data)\n",
    "        \n",
    "        # store simulated spacing and following speed\n",
    "        SimSpaceData.append(state[0])\n",
    "        SimSpeedData.append(state[1])\n",
    "        # store real spacing and following speed\n",
    "        RealSpaceData.append(env.RealSpaceData[0])\n",
    "        RealSpeedData.append(env.RealSpeedData[0])\n",
    "    \n",
    "        while True:\n",
    "            # update the desired spacing\n",
    "            S = solution[3] + env.CurrentState[1]*solution[4]+(env.CurrentState[1]*env.CurrentState[2])/(2*np.sqrt(solution[0]*solution[1]))\n",
    "            # update the action\n",
    "            action = solution[0]*(1-(env.CurrentState[1]/solution[2])**4-(S/env.CurrentState[0])**2)\n",
    "            # update the state\n",
    "            next_state, reward, done, _ = env.step(action)\n",
    "\n",
    "            # next_states\n",
    "            a = []\n",
    "            for item in next_state:\n",
    "                if isinstance(item, np.ndarray):\n",
    "                    a.append(item[0])\n",
    "                else:\n",
    "                    a.append(item)\n",
    "            next_state = np.array(a)\n",
    "            state = next_state\n",
    "\n",
    "            if done:\n",
    "                break\n",
    "\n",
    "            # store simulated spacing and following speed\n",
    "            SimSpaceData.append(state[0])\n",
    "            SimSpeedData.append(state[1])\n",
    "            # store real spacing and following speed\n",
    "            RealSpaceData.append(env.RealSpaceData[env.timeStep - 1])\n",
    "            RealSpeedData.append(env.RealSpeedData[env.timeStep - 1])\n",
    "\n",
    "    # spacing\n",
    "    SimSpaceData = np.array(SimSpaceData)\n",
    "    RealSpaceData = np.array(RealSpaceData)\n",
    "    spacing_rmspe = cal_rmspe(y_true=RealSpaceData, y_pred=SimSpaceData)\n",
    "    # following speed\n",
    "    SimSpeedData = np.array(SimSpeedData)\n",
    "    RealSpeedData = np.array(RealSpeedData)\n",
    "    speed_rmspe = cal_rmspe(y_true=RealSpeedData, y_pred=SimSpeedData)\n",
    "    \n",
    "    return spacing_rmspe"
   ]
  },
  {
   "cell_type": "markdown",
   "metadata": {
    "id": "FVXtCSrrcmib",
    "pycharm": {
     "name": "#%% md\n"
    }
   },
   "source": [
    "# Training part"
   ]
  },
  {
   "cell_type": "code",
   "execution_count": null,
   "metadata": {
    "id": "pJiEAOBoNt9z",
    "scrolled": true,
    "pycharm": {
     "name": "#%%\n"
    }
   },
   "outputs": [],
   "source": [
    "# # set the bounds pf hyper-parameters\n",
    "# # [aMax, aCom, V0, S0, T0]\n",
    "# varbound=np.array([[0.1, 3], \n",
    "#                    [0.1, 5], \n",
    "#                    [1, 30], \n",
    "#                    [0.1, 5], \n",
    "#                    [0.1, 3]])\n",
    "\n",
    "# algorithm_param = {'max_num_iteration': 300,\\\n",
    "#                    'population_size': 300,\\\n",
    "#                    'mutation_probability': 0.1,\\\n",
    "#                    'elit_ratio': 0.01,\\\n",
    "#                    'crossover_probability': 0.5,\\\n",
    "#                    'parents_portion': 0.3,\\\n",
    "#                    'crossover_type': 'uniform',\\\n",
    "#                    'max_iteration_without_improv': 100}\n",
    "\n",
    "# model=ga(function=fitness_func,\n",
    "#          dimension=5,\n",
    "#          variable_type='real',\n",
    "#          variable_boundaries=varbound,\n",
    "#          algorithm_parameters=algorithm_param)\n",
    "\n",
    "# model.run()"
   ]
  },
  {
   "cell_type": "markdown",
   "metadata": {
    "id": "Q9Pg2DF8cmif",
    "pycharm": {
     "name": "#%% md\n"
    }
   },
   "source": [
    "# Testing part"
   ]
  },
  {
   "cell_type": "code",
   "execution_count": null,
   "metadata": {
    "id": "1E1rLmZZNt9z",
    "pycharm": {
     "name": "#%%\n"
    }
   },
   "outputs": [],
   "source": [
    "# solution = model.best_variable\n",
    "solution = [1.08200092, 0.37833643, 29.72641382, 4.98069566, 1.4551363]"
   ]
  },
  {
   "cell_type": "code",
   "execution_count": null,
   "metadata": {
    "id": "MBZqVYrKcmig",
    "pycharm": {
     "name": "#%%\n"
    }
   },
   "outputs": [],
   "source": [
    "# store simulated trajectories\n",
    "idm_test = []\n",
    "\n",
    "# store simulated and real data\n",
    "# spacing\n",
    "SimSpaceData = []\n",
    "RealSpaceData = []\n",
    "# following speed\n",
    "SimSpeedData = []\n",
    "RealSpeedData = []\n",
    "\n",
    "for i in range(len(testing)):\n",
    "    init_data = testing[i]\n",
    "    state = env.reset(init_data)\n",
    "    traj = [state]\n",
    "\n",
    "    # store simulated spacing and following speed\n",
    "    SimSpaceData.append(state[0])\n",
    "    SimSpeedData.append(state[1])\n",
    "    # store real spacing and following speed\n",
    "    RealSpaceData.append(env.RealSpaceData[0])\n",
    "    RealSpeedData.append(env.RealSpeedData[0])\n",
    "\n",
    "    while True:\n",
    "        # update the desired spacing\n",
    "        S = solution[3] + env.CurrentState[1]*solution[4]+(env.CurrentState[1]*env.CurrentState[2])/(2*np.sqrt(solution[0]*solution[1]))\n",
    "        # update the action\n",
    "        action = solution[0]*(1-(env.CurrentState[1]/solution[2])**4-(S/env.CurrentState[0])**2)\n",
    "        # update the state\n",
    "        next_state, reward, done, _ = env.step(action)\n",
    "\n",
    "        # next_states\n",
    "        a = []\n",
    "        for item in next_state:\n",
    "            if isinstance(item, np.ndarray):\n",
    "                a.append(item[0])\n",
    "            else:\n",
    "                a.append(item)\n",
    "        next_state = np.array(a)\n",
    "        state = next_state\n",
    "        \n",
    "        traj.append(state)\n",
    "\n",
    "        if done:\n",
    "            break\n",
    "\n",
    "        # store simulated spacing and following speed\n",
    "        SimSpaceData.append(state[0])\n",
    "        SimSpeedData.append(state[1])\n",
    "        # store real spacing and following speed\n",
    "        RealSpaceData.append(env.RealSpaceData[env.timeStep - 1])\n",
    "        RealSpeedData.append(env.RealSpeedData[env.timeStep - 1])\n",
    "\n",
    "    traj = np.array(traj)\n",
    "    idm_test.append(traj)\n",
    "\n",
    "# spacing\n",
    "SimSpaceData = np.array(SimSpaceData)\n",
    "RealSpaceData = np.array(RealSpaceData)\n",
    "spacing_rmspe = cal_rmspe(y_true=RealSpaceData, y_pred=SimSpaceData)\n",
    "# following speed\n",
    "SimSpeedData = np.array(SimSpeedData)\n",
    "RealSpeedData = np.array(RealSpeedData)\n",
    "speed_rmspe = cal_rmspe(y_true=RealSpeedData, y_pred=SimSpeedData)\n",
    "\n",
    "print(\n",
    "    'TEST\\tSpacing RMSPE: {:.6f}\\tSpeed RMSPE: {:.6f}'.format(\n",
    "        spacing_rmspe, speed_rmspe))\n",
    "\n",
    "np.save('test_IDM_traj.npy', idm_test)"
   ]
  },
  {
   "cell_type": "markdown",
   "metadata": {
    "id": "wcf9BDBqcmii",
    "pycharm": {
     "name": "#%% md\n"
    }
   },
   "source": [
    "# Visualize the simulated results"
   ]
  },
  {
   "cell_type": "code",
   "execution_count": null,
   "metadata": {
    "id": "OFmEb4n8cmih",
    "pycharm": {
     "name": "#%%\n"
    }
   },
   "outputs": [],
   "source": [
    "test_traj = np.load('test_IDM_traj.npy', allow_pickle=True) # spacing, relative speed and following vehicle speed"
   ]
  },
  {
   "cell_type": "code",
   "execution_count": null,
   "metadata": {
    "id": "WwEN6McRcmii",
    "pycharm": {
     "name": "#%%\n"
    }
   },
   "outputs": [],
   "source": [
    "# spacing\n",
    "plt.plot(test_traj[4][:, 0], label ='Sim Spacing')\n",
    "plt.plot(testing[4][:, 0], label ='Real Spacing')\n",
    "plt.legend()"
   ]
  },
  {
   "cell_type": "code",
   "execution_count": null,
   "metadata": {
    "id": "A09AYgBtcmii",
    "pycharm": {
     "name": "#%%\n"
    }
   },
   "outputs": [],
   "source": [
    "# following speed\n",
    "plt.plot(test_traj[4][:, 1], label ='Sim FV Speed')\n",
    "plt.plot(testing[4][:, 1], label ='Real FV Speed')\n",
    "plt.legend()"
   ]
  },
  {
   "cell_type": "code",
   "execution_count": null,
   "metadata": {
    "id": "8dFh9c_nNt91",
    "pycharm": {
     "name": "#%%\n"
    }
   },
   "outputs": [],
   "source": []
  }
 ],
 "metadata": {
  "colab": {
   "collapsed_sections": [],
   "name": "train&test_IDM.ipynb",
   "provenance": []
  },
  "kernelspec": {
   "display_name": "Python 3 (ipykernel)",
   "language": "python",
   "name": "python3"
  },
  "language_info": {
   "codemirror_mode": {
    "name": "ipython",
    "version": 3
   },
   "file_extension": ".py",
   "mimetype": "text/x-python",
   "name": "python",
   "nbconvert_exporter": "python",
   "pygments_lexer": "ipython3",
   "version": "3.8.13"
  }
 },
 "nbformat": 4,
 "nbformat_minor": 1
}