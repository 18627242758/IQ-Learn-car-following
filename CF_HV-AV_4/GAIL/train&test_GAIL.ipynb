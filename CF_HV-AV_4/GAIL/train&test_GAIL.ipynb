{
 "cells": [
  {
   "cell_type": "code",
   "execution_count": null,
   "metadata": {
    "colab": {
     "base_uri": "https://localhost:8080/",
     "height": 17
    },
    "executionInfo": {
     "elapsed": 11,
     "status": "ok",
     "timestamp": 1645889402310,
     "user": {
      "displayName": "Erik Wen",
      "photoUrl": "https://lh3.googleusercontent.com/a/default-user=s64",
      "userId": "11093893566192982922"
     },
     "user_tz": -480
    },
    "id": "XAm6a8Les4c0",
    "outputId": "491f44db-113e-458a-badd-3294cca20f07"
   },
   "outputs": [],
   "source": [
    "from IPython.core.display import display, HTML\n",
    "display(HTML(\"<style>.container { width:100% !important; }</style>\"))"
   ]
  },
  {
   "cell_type": "code",
   "execution_count": null,
   "metadata": {
    "colab": {
     "base_uri": "https://localhost:8080/"
    },
    "executionInfo": {
     "elapsed": 2948,
     "status": "ok",
     "timestamp": 1645889405251,
     "user": {
      "displayName": "Erik Wen",
      "photoUrl": "https://lh3.googleusercontent.com/a/default-user=s64",
      "userId": "11093893566192982922"
     },
     "user_tz": -480
    },
    "id": "TbU-qj0fs-bc",
    "outputId": "3cda80e5-59b8-449c-aca4-1f59a9fd8daa"
   },
   "outputs": [],
   "source": [
    "# from google.colab import drive\n",
    "# drive.mount(\"/content/MyDrive/\")"
   ]
  },
  {
   "cell_type": "code",
   "execution_count": null,
   "metadata": {
    "executionInfo": {
     "elapsed": 837,
     "status": "ok",
     "timestamp": 1645889406080,
     "user": {
      "displayName": "Erik Wen",
      "photoUrl": "https://lh3.googleusercontent.com/a/default-user=s64",
      "userId": "11093893566192982922"
     },
     "user_tz": -480
    },
    "id": "WqBc7k4M_h3f"
   },
   "outputs": [],
   "source": [
    "import os\n",
    "import sys\n",
    "from pathlib import Path\n",
    "import argparse\n",
    "import torch\n",
    "\n",
    "sys.path.append(\"/content/MyDrive/MyDrive/Research/IQ-Learn_CF/Prog/CF_HV-AV_2/GAIL/\") # used only in colab\n",
    "from buffer import SerializedBuffer\n",
    "from utils import evaluation, visualize\n",
    "from agent import ALGOS, EXP_ALGOS\n",
    "from trainer import Trainer\n",
    "\n",
    "sys.path.append(\"/content/MyDrive/MyDrive/Research/IQ-Learn_CF/Prog/\") # used only in colab\n",
    "sys.path.append(str(Path(os.getcwd()).parent.absolute())) # used only in ipython\n",
    "sys.path.append(str(Path(os.getcwd()).parent.parent.absolute())) # used only in ipython\n",
    "from CF_Env import CF_Env"
   ]
  },
  {
   "cell_type": "markdown",
   "metadata": {
    "id": "ZqUTkJ98DQY7"
   },
   "source": [
    "# begin training"
   ]
  },
  {
   "cell_type": "code",
   "execution_count": null,
   "metadata": {
    "executionInfo": {
     "elapsed": 4,
     "status": "ok",
     "timestamp": 1645889406081,
     "user": {
      "displayName": "Erik Wen",
      "photoUrl": "https://lh3.googleusercontent.com/a/default-user=s64",
      "userId": "11093893566192982922"
     },
     "user_tz": -480
    },
    "id": "ls8qCdlP_h5c"
   },
   "outputs": [],
   "source": [
    "def run(args):\n",
    "    # train Imitation Learning algorithms\n",
    "    env = CF_Env()\n",
    "\n",
    "    buffer_exp = SerializedBuffer(\n",
    "        path=args.buffer,\n",
    "        device=torch.device(\"cuda\" if args.cuda else \"cpu\")\n",
    "    )\n",
    "\n",
    "    algo = ALGOS[args.algo](\n",
    "        buffer_exp=buffer_exp,\n",
    "        state_shape=env.observation_space.shape,\n",
    "        action_shape=env.action_space.shape,\n",
    "        device=torch.device(\"cuda\" if args.cuda else \"cpu\"),\n",
    "        seed=args.seed,\n",
    "        rollout_length=args.rollout_length\n",
    "    )\n",
    "\n",
    "    # path to save logs\n",
    "    log_dir = os.path.join('logs', args.algo)\n",
    "\n",
    "    trainer = Trainer(\n",
    "        env=env,\n",
    "        algo=algo,\n",
    "        log_dir=log_dir,\n",
    "        buffer_path=args.buffer,\n",
    "        num_steps=args.num_steps,\n",
    "        valid_path=args.valid_path\n",
    "    )\n",
    "    trainer.train()"
   ]
  },
  {
   "cell_type": "code",
   "execution_count": null,
   "metadata": {
    "colab": {
     "base_uri": "https://localhost:8080/",
     "height": 1000,
     "referenced_widgets": [
      "cab2d5ee30a44ff3b2ca810a3392760f",
      "30dfc9ef729f4034b017123e89f24f17",
      "85c9d72e6e084fa78793bf3ed82fb460",
      "e36351ff0baf413d909df851ba4f746b",
      "ff583cd56b9f44e3b044c92c84e717ce",
      "fb2422ca57a84b329d7ba38c620d1f06",
      "2b60d711d3814faba404d6b4e4881462",
      "25c8d81b5aea4d1b99ff161d3026b105",
      "f22b2f3dca9e43598b83a7c89464fda6",
      "e4258c15719c4b34bdba289fd510b88d",
      "fba38bc33b934b4895bd338b06d5a2e9"
     ]
    },
    "executionInfo": {
     "elapsed": 120449,
     "status": "ok",
     "timestamp": 1645889526527,
     "user": {
      "displayName": "Erik Wen",
      "photoUrl": "https://lh3.googleusercontent.com/a/default-user=s64",
      "userId": "11093893566192982922"
     },
     "user_tz": -480
    },
    "id": "E2JshfRS_ovN",
    "outputId": "62e3b81c-2844-43fb-bccb-beb0349b8926"
   },
   "outputs": [],
   "source": [
    "# if __name__ == '__main__':\n",
    "#     p = argparse.ArgumentParser()\n",
    "#\n",
    "#     \"\"\"used only in command line\"\"\"\n",
    "#     p.add_argument('--buffer', type=str, help='path to the demonstration buffer',\n",
    "#                    default=str(Path(os.getcwd()).parent.absolute())+'/'+'train_cf_4.npy')\n",
    "#     \"\"\"used only in colab\"\"\"\n",
    "#     # p.add_argument('--buffer', type=str, help='path to the demonstration buffer',\n",
    "#     #                default=\"/content/MyDrive/MyDrive/Research/IQ-Learn_CF/Prog/CF_HV-AV_4/train_cf_4.npy\")\n",
    "#\n",
    "#     \"\"\"used only in command line\"\"\"\n",
    "#     p.add_argument('--valid_path', type=str, help='path to the validation buffer',\n",
    "#                    default=str(Path(os.getcwd()).parent.absolute())+'/'+'test_cf_4.npy')\n",
    "#     \"\"\"used only in colab\"\"\"\n",
    "#     # p.add_argument('--valid_path', type=str, help='path to the validation buffer',\n",
    "#     #                default=\"/content/MyDrive/MyDrive/Research/IQ-Learn_CF/Prog/CF_HV-AV_4/test_cf_4.npy\")\n",
    "#\n",
    "#     p.add_argument('--rollout_length', type=int, help='rollout length of the buffer',\n",
    "#                    default=25)\n",
    "#     p.add_argument('--num_steps', type=int, help='number of steps to train',\n",
    "#                    default=60000)\n",
    "#     p.add_argument('--algo', type=str, help='Imitation Learning algorithm to be trained',\n",
    "#                    default='gail')\n",
    "#     p.add_argument('--cuda', action='store_true')\n",
    "#     p.add_argument('--seed', type=int, help='random seed',\n",
    "#                    default=0)\n",
    "#     p.add_argument('-f')\n",
    "#     args = p.parse_args()\n",
    "#\n",
    "#     run(args)"
   ]
  },
  {
   "cell_type": "markdown",
   "metadata": {
    "id": "w9_C72DRDJlP"
   },
   "source": [
    "# begin testing"
   ]
  },
  {
   "cell_type": "code",
   "execution_count": null,
   "metadata": {
    "executionInfo": {
     "elapsed": 4,
     "status": "ok",
     "timestamp": 1645889526528,
     "user": {
      "displayName": "Erik Wen",
      "photoUrl": "https://lh3.googleusercontent.com/a/default-user=s64",
      "userId": "11093893566192982922"
     },
     "user_tz": -480
    },
    "id": "o4E6_o0vDLOh"
   },
   "outputs": [],
   "source": [
    "def run(args):\n",
    "    env = CF_Env()\n",
    "    agent = EXP_ALGOS[args.algo](env.observation_space.shape,\n",
    "                                 env.action_space.shape,\n",
    "                                 device=torch.device(\"cuda\" if args.cuda else \"cpu\"),\n",
    "                                 path=args.policy+\"/\"+args.algo+\"/model/\"\n",
    "                                 )\n",
    "\n",
    "    evaluation(name=args.algo,\n",
    "               env=env,\n",
    "               algo=agent,\n",
    "               buffer=args.buffer,\n",
    "               seed=args.seed\n",
    "               )\n",
    "\n",
    "    visualize(name=args.algo,\n",
    "              buffer=args.buffer,\n",
    "              traj_path=args.traj_path,\n",
    "              num=args.num)\n"
   ]
  },
  {
   "cell_type": "code",
   "execution_count": null,
   "metadata": {
    "colab": {
     "base_uri": "https://localhost:8080/",
     "height": 451
    },
    "executionInfo": {
     "elapsed": 596,
     "status": "error",
     "timestamp": 1645889527121,
     "user": {
      "displayName": "Erik Wen",
      "photoUrl": "https://lh3.googleusercontent.com/a/default-user=s64",
      "userId": "11093893566192982922"
     },
     "user_tz": -480
    },
    "id": "5dYPrat1DUfV",
    "outputId": "7871189d-4e5b-4d64-993d-b68d394997b0"
   },
   "outputs": [],
   "source": [
    "if __name__ == '__main__':\n",
    "    p = argparse.ArgumentParser()\n",
    "    \n",
    "    \"\"\"used only in command line\"\"\"\n",
    "    p.add_argument('--buffer', type=str, help='path to the demonstration buffer',\n",
    "                   default=str(Path(os.getcwd()).parent.absolute())+'/'+'test_cf_4.npy')\n",
    "    \"\"\"used only in colab\"\"\"\n",
    "    # p.add_argument('--buffer', type=str, help='path to the demonstration buffer',\n",
    "    #                default=\"/content/MyDrive/MyDrive/Research/IQ-Learn_CF/Prog/CF_HV-AV_2/test_cf_4.npy\")\n",
    "    \n",
    "    p.add_argument('--policy', type=str, help='path to the trained policy',\n",
    "                   default='logs/')\n",
    "    p.add_argument('--traj_path', type=str, help='path to the simulated trajectory',\n",
    "                   default='result/')\n",
    "    p.add_argument('--num', type=int, help='index of trajectory to be visualized',\n",
    "                   default=3)\n",
    "    p.add_argument('--algo', type=str, help='Imitation Learning algorithm to be trained',\n",
    "                   default='gail')\n",
    "    p.add_argument('--cuda', action='store_true')\n",
    "    p.add_argument('--seed', type=int, help='random seed',\n",
    "                   default=0)\n",
    "    p.add_argument('-f')\n",
    "    args = p.parse_args()\n",
    "\n",
    "    run(args)"
   ]
  },
  {
   "cell_type": "code",
   "execution_count": null,
   "metadata": {
    "executionInfo": {
     "elapsed": 3,
     "status": "aborted",
     "timestamp": 1645889527120,
     "user": {
      "displayName": "Erik Wen",
      "photoUrl": "https://lh3.googleusercontent.com/a/default-user=s64",
      "userId": "11093893566192982922"
     },
     "user_tz": -480
    },
    "id": "d3fIQMQtMTDQ",
    "pycharm": {
     "name": "#%%\n"
    }
   },
   "outputs": [],
   "source": []
  }
 ],
 "metadata": {
  "accelerator": "GPU",
  "colab": {
   "collapsed_sections": [],
   "machine_shape": "hm",
   "name": "train&test_GAIL.ipynb",
   "provenance": []
  },
  "kernelspec": {
   "display_name": "Python 3 (ipykernel)",
   "language": "python",
   "name": "python3"
  },
  "language_info": {
   "codemirror_mode": {
    "name": "ipython",
    "version": 3
   },
   "file_extension": ".py",
   "mimetype": "text/x-python",
   "name": "python",
   "nbconvert_exporter": "python",
   "pygments_lexer": "ipython3",
   "version": "3.9.7"
  },
  "widgets": {
   "application/vnd.jupyter.widget-state+json": {
    "25c8d81b5aea4d1b99ff161d3026b105": {
     "model_module": "@jupyter-widgets/controls",
     "model_module_version": "1.5.0",
     "model_name": "ProgressStyleModel",
     "state": {
      "_model_module": "@jupyter-widgets/controls",
      "_model_module_version": "1.5.0",
      "_model_name": "ProgressStyleModel",
      "_view_count": null,
      "_view_module": "@jupyter-widgets/base",
      "_view_module_version": "1.2.0",
      "_view_name": "StyleView",
      "bar_color": null,
      "description_width": ""
     }
    },
    "2b60d711d3814faba404d6b4e4881462": {
     "model_module": "@jupyter-widgets/base",
     "model_module_version": "1.2.0",
     "model_name": "LayoutModel",
     "state": {
      "_model_module": "@jupyter-widgets/base",
      "_model_module_version": "1.2.0",
      "_model_name": "LayoutModel",
      "_view_count": null,
      "_view_module": "@jupyter-widgets/base",
      "_view_module_version": "1.2.0",
      "_view_name": "LayoutView",
      "align_content": null,
      "align_items": null,
      "align_self": null,
      "border": null,
      "bottom": null,
      "display": null,
      "flex": null,
      "flex_flow": null,
      "grid_area": null,
      "grid_auto_columns": null,
      "grid_auto_flow": null,
      "grid_auto_rows": null,
      "grid_column": null,
      "grid_gap": null,
      "grid_row": null,
      "grid_template_areas": null,
      "grid_template_columns": null,
      "grid_template_rows": null,
      "height": null,
      "justify_content": null,
      "justify_items": null,
      "left": null,
      "margin": null,
      "max_height": null,
      "max_width": null,
      "min_height": null,
      "min_width": null,
      "object_fit": null,
      "object_position": null,
      "order": null,
      "overflow": null,
      "overflow_x": null,
      "overflow_y": null,
      "padding": null,
      "right": null,
      "top": null,
      "visibility": null,
      "width": null
     }
    },
    "30dfc9ef729f4034b017123e89f24f17": {
     "model_module": "@jupyter-widgets/base",
     "model_module_version": "1.2.0",
     "model_name": "LayoutModel",
     "state": {
      "_model_module": "@jupyter-widgets/base",
      "_model_module_version": "1.2.0",
      "_model_name": "LayoutModel",
      "_view_count": null,
      "_view_module": "@jupyter-widgets/base",
      "_view_module_version": "1.2.0",
      "_view_name": "LayoutView",
      "align_content": null,
      "align_items": null,
      "align_self": null,
      "border": null,
      "bottom": null,
      "display": null,
      "flex": null,
      "flex_flow": null,
      "grid_area": null,
      "grid_auto_columns": null,
      "grid_auto_flow": null,
      "grid_auto_rows": null,
      "grid_column": null,
      "grid_gap": null,
      "grid_row": null,
      "grid_template_areas": null,
      "grid_template_columns": null,
      "grid_template_rows": null,
      "height": null,
      "justify_content": null,
      "justify_items": null,
      "left": null,
      "margin": null,
      "max_height": null,
      "max_width": null,
      "min_height": null,
      "min_width": null,
      "object_fit": null,
      "object_position": null,
      "order": null,
      "overflow": null,
      "overflow_x": null,
      "overflow_y": null,
      "padding": null,
      "right": null,
      "top": null,
      "visibility": null,
      "width": null
     }
    },
    "85c9d72e6e084fa78793bf3ed82fb460": {
     "model_module": "@jupyter-widgets/controls",
     "model_module_version": "1.5.0",
     "model_name": "HTMLModel",
     "state": {
      "_dom_classes": [],
      "_model_module": "@jupyter-widgets/controls",
      "_model_module_version": "1.5.0",
      "_model_name": "HTMLModel",
      "_view_count": null,
      "_view_module": "@jupyter-widgets/controls",
      "_view_module_version": "1.5.0",
      "_view_name": "HTMLView",
      "description": "",
      "description_tooltip": null,
      "layout": "IPY_MODEL_2b60d711d3814faba404d6b4e4881462",
      "placeholder": "​",
      "style": "IPY_MODEL_fb2422ca57a84b329d7ba38c620d1f06",
      "value": "  1%"
     }
    },
    "cab2d5ee30a44ff3b2ca810a3392760f": {
     "model_module": "@jupyter-widgets/controls",
     "model_module_version": "1.5.0",
     "model_name": "HBoxModel",
     "state": {
      "_dom_classes": [],
      "_model_module": "@jupyter-widgets/controls",
      "_model_module_version": "1.5.0",
      "_model_name": "HBoxModel",
      "_view_count": null,
      "_view_module": "@jupyter-widgets/controls",
      "_view_module_version": "1.5.0",
      "_view_name": "HBoxView",
      "box_style": "",
      "children": [
       "IPY_MODEL_85c9d72e6e084fa78793bf3ed82fb460",
       "IPY_MODEL_e36351ff0baf413d909df851ba4f746b",
       "IPY_MODEL_ff583cd56b9f44e3b044c92c84e717ce"
      ],
      "layout": "IPY_MODEL_30dfc9ef729f4034b017123e89f24f17"
     }
    },
    "e36351ff0baf413d909df851ba4f746b": {
     "model_module": "@jupyter-widgets/controls",
     "model_module_version": "1.5.0",
     "model_name": "FloatProgressModel",
     "state": {
      "_dom_classes": [],
      "_model_module": "@jupyter-widgets/controls",
      "_model_module_version": "1.5.0",
      "_model_name": "FloatProgressModel",
      "_view_count": null,
      "_view_module": "@jupyter-widgets/controls",
      "_view_module_version": "1.5.0",
      "_view_name": "ProgressView",
      "bar_style": "danger",
      "description": "",
      "description_tooltip": null,
      "layout": "IPY_MODEL_f22b2f3dca9e43598b83a7c89464fda6",
      "max": 60000,
      "min": 0,
      "orientation": "horizontal",
      "style": "IPY_MODEL_25c8d81b5aea4d1b99ff161d3026b105",
      "value": 378
     }
    },
    "e4258c15719c4b34bdba289fd510b88d": {
     "model_module": "@jupyter-widgets/controls",
     "model_module_version": "1.5.0",
     "model_name": "DescriptionStyleModel",
     "state": {
      "_model_module": "@jupyter-widgets/controls",
      "_model_module_version": "1.5.0",
      "_model_name": "DescriptionStyleModel",
      "_view_count": null,
      "_view_module": "@jupyter-widgets/base",
      "_view_module_version": "1.2.0",
      "_view_name": "StyleView",
      "description_width": ""
     }
    },
    "f22b2f3dca9e43598b83a7c89464fda6": {
     "model_module": "@jupyter-widgets/base",
     "model_module_version": "1.2.0",
     "model_name": "LayoutModel",
     "state": {
      "_model_module": "@jupyter-widgets/base",
      "_model_module_version": "1.2.0",
      "_model_name": "LayoutModel",
      "_view_count": null,
      "_view_module": "@jupyter-widgets/base",
      "_view_module_version": "1.2.0",
      "_view_name": "LayoutView",
      "align_content": null,
      "align_items": null,
      "align_self": null,
      "border": null,
      "bottom": null,
      "display": null,
      "flex": null,
      "flex_flow": null,
      "grid_area": null,
      "grid_auto_columns": null,
      "grid_auto_flow": null,
      "grid_auto_rows": null,
      "grid_column": null,
      "grid_gap": null,
      "grid_row": null,
      "grid_template_areas": null,
      "grid_template_columns": null,
      "grid_template_rows": null,
      "height": null,
      "justify_content": null,
      "justify_items": null,
      "left": null,
      "margin": null,
      "max_height": null,
      "max_width": null,
      "min_height": null,
      "min_width": null,
      "object_fit": null,
      "object_position": null,
      "order": null,
      "overflow": null,
      "overflow_x": null,
      "overflow_y": null,
      "padding": null,
      "right": null,
      "top": null,
      "visibility": null,
      "width": null
     }
    },
    "fb2422ca57a84b329d7ba38c620d1f06": {
     "model_module": "@jupyter-widgets/controls",
     "model_module_version": "1.5.0",
     "model_name": "DescriptionStyleModel",
     "state": {
      "_model_module": "@jupyter-widgets/controls",
      "_model_module_version": "1.5.0",
      "_model_name": "DescriptionStyleModel",
      "_view_count": null,
      "_view_module": "@jupyter-widgets/base",
      "_view_module_version": "1.2.0",
      "_view_name": "StyleView",
      "description_width": ""
     }
    },
    "fba38bc33b934b4895bd338b06d5a2e9": {
     "model_module": "@jupyter-widgets/base",
     "model_module_version": "1.2.0",
     "model_name": "LayoutModel",
     "state": {
      "_model_module": "@jupyter-widgets/base",
      "_model_module_version": "1.2.0",
      "_model_name": "LayoutModel",
      "_view_count": null,
      "_view_module": "@jupyter-widgets/base",
      "_view_module_version": "1.2.0",
      "_view_name": "LayoutView",
      "align_content": null,
      "align_items": null,
      "align_self": null,
      "border": null,
      "bottom": null,
      "display": null,
      "flex": null,
      "flex_flow": null,
      "grid_area": null,
      "grid_auto_columns": null,
      "grid_auto_flow": null,
      "grid_auto_rows": null,
      "grid_column": null,
      "grid_gap": null,
      "grid_row": null,
      "grid_template_areas": null,
      "grid_template_columns": null,
      "grid_template_rows": null,
      "height": null,
      "justify_content": null,
      "justify_items": null,
      "left": null,
      "margin": null,
      "max_height": null,
      "max_width": null,
      "min_height": null,
      "min_width": null,
      "object_fit": null,
      "object_position": null,
      "order": null,
      "overflow": null,
      "overflow_x": null,
      "overflow_y": null,
      "padding": null,
      "right": null,
      "top": null,
      "visibility": null,
      "width": null
     }
    },
    "ff583cd56b9f44e3b044c92c84e717ce": {
     "model_module": "@jupyter-widgets/controls",
     "model_module_version": "1.5.0",
     "model_name": "HTMLModel",
     "state": {
      "_dom_classes": [],
      "_model_module": "@jupyter-widgets/controls",
      "_model_module_version": "1.5.0",
      "_model_name": "HTMLModel",
      "_view_count": null,
      "_view_module": "@jupyter-widgets/controls",
      "_view_module_version": "1.5.0",
      "_view_name": "HTMLView",
      "description": "",
      "description_tooltip": null,
      "layout": "IPY_MODEL_fba38bc33b934b4895bd338b06d5a2e9",
      "placeholder": "​",
      "style": "IPY_MODEL_e4258c15719c4b34bdba289fd510b88d",
      "value": " 378/60000 [01:58&lt;5:52:01,  2.82it/s]"
     }
    }
   }
  }
 },
 "nbformat": 4,
 "nbformat_minor": 1
}
