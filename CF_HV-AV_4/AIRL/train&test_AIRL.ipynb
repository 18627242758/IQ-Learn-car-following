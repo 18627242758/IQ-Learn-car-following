{
 "cells": [
  {
   "cell_type": "code",
   "execution_count": null,
   "metadata": {
    "id": "XAm6a8Les4c0"
   },
   "outputs": [],
   "source": [
    "from IPython.core.display import display, HTML\n",
    "display(HTML(\"<style>.container { width:100% !important; }</style>\"))"
   ]
  },
  {
   "cell_type": "code",
   "execution_count": null,
   "metadata": {
    "id": "TbU-qj0fs-bc"
   },
   "outputs": [],
   "source": [
    "# from google.colab import drive\n",
    "# drive.mount(\"/content/MyDrive/\")"
   ]
  },
  {
   "cell_type": "code",
   "execution_count": null,
   "metadata": {
    "id": "WqBc7k4M_h3f"
   },
   "outputs": [],
   "source": [
    "import os\n",
    "import sys\n",
    "from pathlib import Path\n",
    "import argparse\n",
    "import torch\n",
    "\n",
    "sys.path.append(\"/content/MyDrive/MyDrive/Research/IQ-Learn_CF/Prog/AIRL/\") # used only in colab\n",
    "from buffer import SerializedBuffer\n",
    "from utils import evaluation, visualize\n",
    "from agent import ALGOS, EXP_ALGOS\n",
    "from trainer import Trainer\n",
    "\n",
    "sys.path.append(\"/content/MyDrive/MyDrive/Research/IQ-Learn_CF/Prog/\") # used only in colab\n",
    "sys.path.append(str(Path(os.getcwd()).parent.absolute())) # used only in ipython\n",
    "sys.path.append(str(Path(os.getcwd()).parent.parent.absolute())) # used only in ipython\n",
    "from CF_Env import CF_Env"
   ]
  },
  {
   "cell_type": "markdown",
   "metadata": {
    "id": "ZqUTkJ98DQY7"
   },
   "source": [
    "# begin training"
   ]
  },
  {
   "cell_type": "code",
   "execution_count": null,
   "metadata": {
    "id": "ls8qCdlP_h5c"
   },
   "outputs": [],
   "source": [
    "def run(args):\n",
    "    # train Imitation Learning algorithms\n",
    "    env = CF_Env()\n",
    "\n",
    "    buffer_exp = SerializedBuffer(\n",
    "        path=args.buffer,\n",
    "        device=torch.device(\"cuda\" if args.cuda else \"cpu\")\n",
    "    )\n",
    "\n",
    "    algo = ALGOS[args.algo](\n",
    "        buffer_exp=buffer_exp,\n",
    "        state_shape=env.observation_space.shape,\n",
    "        action_shape=env.action_space.shape,\n",
    "        device=torch.device(\"cuda\" if args.cuda else \"cpu\"),\n",
    "        seed=args.seed,\n",
    "        rollout_length=args.rollout_length\n",
    "    )\n",
    "\n",
    "    # path to save logs\n",
    "    log_dir = os.path.join('logs', args.algo)\n",
    "\n",
    "    trainer = Trainer(\n",
    "        env=env,\n",
    "        algo=algo,\n",
    "        log_dir=log_dir,\n",
    "        buffer_path=args.buffer,\n",
    "        num_steps=args.num_steps,\n",
    "        valid_path=args.valid_path\n",
    "    )\n",
    "    trainer.train()"
   ]
  },
  {
   "cell_type": "code",
   "execution_count": null,
   "metadata": {
    "id": "E2JshfRS_ovN"
   },
   "outputs": [],
   "source": [
    "# if __name__ == '__main__':\n",
    "#     p = argparse.ArgumentParser()\n",
    "\n",
    "#     \"\"\"used only in command line\"\"\"\n",
    "#     p.add_argument('--buffer', type=str, help='path to the demonstration buffer',\n",
    "#                    default=str(Path(os.getcwd()).parent.absolute())+'/'+'train_cf_4.npy')\n",
    "#     \"\"\"used only in colab\"\"\"\n",
    "#     # p.add_argument('--buffer', type=str, help='path to the demonstration buffer',\n",
    "#     #               default=\"/content/MyDrive/MyDrive/Research/IQ-Learn_CF/Prog/CF_HV-AV_4/train_cf_4.npy\")\n",
    "\n",
    "#     \"\"\"used only in command line\"\"\"\n",
    "#     p.add_argument('--valid_path', type=str, help='path to the validation buffer',\n",
    "#                    default=str(Path(os.getcwd()).parent.absolute())+'/'+'test_cf_4.npy')\n",
    "#     \"\"\"used only in colab\"\"\"\n",
    "#     # p.add_argument('--valid_path', type=str, help='path to the validation buffer',\n",
    "#     #                default=\"/content/MyDrive/MyDrive/Research/IQ-Learn_CF/Prog/CF_HV-AV_4/test_cf_4.npy\")\n",
    "\n",
    "#     p.add_argument('--rollout_length', type=int, help='rollout length of the buffer',\n",
    "#                    default=25)\n",
    "#     p.add_argument('--num_steps', type=int, help='number of steps to train',\n",
    "#                    default=60000)\n",
    "#     p.add_argument('--algo', type=str, help='Imitation Learning algorithm to be trained',\n",
    "#                    default='airl')\n",
    "#     p.add_argument('--cuda', action='store_true')\n",
    "#     p.add_argument('--seed', type=int, help='random seed',\n",
    "#                    default=0)\n",
    "#     p.add_argument('-f')\n",
    "#     args = p.parse_args()\n",
    "\n",
    "#     run(args)"
   ]
  },
  {
   "cell_type": "markdown",
   "metadata": {
    "id": "w9_C72DRDJlP"
   },
   "source": [
    "# begin testing"
   ]
  },
  {
   "cell_type": "code",
   "execution_count": null,
   "metadata": {
    "id": "o4E6_o0vDLOh"
   },
   "outputs": [],
   "source": [
    "def run(args):\n",
    "    env = CF_Env()\n",
    "    agent = EXP_ALGOS[args.algo](env.observation_space.shape,\n",
    "                                 env.action_space.shape,\n",
    "                                 device=torch.device(\"cuda\" if args.cuda else \"cpu\"),\n",
    "                                 path=args.policy+\"/\"+args.algo+\"/model/\"\n",
    "                                 )\n",
    "\n",
    "    evaluation(name=args.algo,\n",
    "               env=env,\n",
    "               algo=agent,\n",
    "               buffer=args.buffer,\n",
    "               seed=args.seed\n",
    "               )\n",
    "\n",
    "    visualize(name=args.algo,\n",
    "              buffer=args.buffer,\n",
    "              traj_path=args.traj_path,\n",
    "              num=args.num)\n"
   ]
  },
  {
   "cell_type": "code",
   "execution_count": null,
   "metadata": {
    "id": "5dYPrat1DUfV",
    "scrolled": false
   },
   "outputs": [],
   "source": [
    "if __name__ == '__main__':\n",
    "    p = argparse.ArgumentParser()\n",
    "    \n",
    "    \"\"\"used only in command line\"\"\"\n",
    "    p.add_argument('--buffer', type=str, help='path to the demonstration buffer',\n",
    "                   default=str(Path(os.getcwd()).parent.absolute())+'/'+'test_cf_4.npy')\n",
    "    \"\"\"used only in colab\"\"\"\n",
    "    # p.add_argument('--buffer', type=str, help='path to the demonstration buffer',\n",
    "    #                default=\"/content/MyDrive/MyDrive/Research/IQ-Learn_CF/Prog/CF_HV-AV_4/test_cf_4.npy\")\n",
    "    \n",
    "    p.add_argument('--policy', type=str, help='path to the trained policy',\n",
    "                   default='logs/')\n",
    "    p.add_argument('--traj_path', type=str, help='path to the simulated trajectory',\n",
    "                   default='result/')\n",
    "    p.add_argument('--num', type=int, help='index of trajectory to be visualized',\n",
    "                   default=0)\n",
    "    p.add_argument('--algo', type=str, help='Imitation Learning algorithm to be trained',\n",
    "                   default='airl')\n",
    "    p.add_argument('--cuda', action='store_true')\n",
    "    p.add_argument('--seed', type=int, help='random seed',\n",
    "                   default=0)\n",
    "    p.add_argument('-f')\n",
    "    args = p.parse_args()\n",
    "\n",
    "    run(args)"
   ]
  },
  {
   "cell_type": "code",
   "execution_count": null,
   "metadata": {
    "id": "d3fIQMQtMTDQ",
    "pycharm": {
     "name": "#%%\n"
    }
   },
   "outputs": [],
   "source": []
  }
 ],
 "metadata": {
  "accelerator": "GPU",
  "colab": {
   "collapsed_sections": [],
   "machine_shape": "hm",
   "name": "train&test_AIRL.ipynb",
   "provenance": []
  },
  "kernelspec": {
   "display_name": "Python 3 (ipykernel)",
   "language": "python",
   "name": "python3"
  },
  "language_info": {
   "codemirror_mode": {
    "name": "ipython",
    "version": 3
   },
   "file_extension": ".py",
   "mimetype": "text/x-python",
   "name": "python",
   "nbconvert_exporter": "python",
   "pygments_lexer": "ipython3",
   "version": "3.9.7"
  }
 },
 "nbformat": 4,
 "nbformat_minor": 1
}
